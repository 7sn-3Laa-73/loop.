{
 "cells": [
  {
   "cell_type": "code",
   "execution_count": 4,
   "id": "24d68dff-f8ae-4217-aa03-1d9e8e9fa135",
   "metadata": {},
   "outputs": [
    {
     "name": "stdout",
     "output_type": "stream",
     "text": [
      "Countries containing land:  ['Finland', 'Iceland', 'Ireland', 'Marshall Islands', 'Netherlands', 'New Zealand', 'Poland', 'Solomon Islands', 'Swaziland', 'Switzerland', 'Thailand']\n"
     ]
    }
   ],
   "source": [
    "from countries import countries\n",
    "\n",
    "land = [country for country in countries if \"land\" in country]\n",
    "\n",
    "\n",
    "print(\"Countries containing land: \", land )\n",
    "\n"
   ]
  },
  {
   "cell_type": "code",
   "execution_count": 40,
   "id": "f4b5d33c-b356-4269-95e2-d7dd365e335e",
   "metadata": {},
   "outputs": [
    {
     "name": "stdout",
     "output_type": "stream",
     "text": [
      "أكثر 10 لغات تحدثاً: [('English', 91), ('French', 45), ('Arabic', 25), ('Spanish', 24), ('Portuguese', 9), ('Russian', 9), ('Dutch', 8), ('German', 7), ('Chinese', 5), ('Serbian', 4)]\n"
     ]
    }
   ],
   "source": [
    "from countries_details_dat import countries_data\n",
    "from collections import Counter\n",
    "\n",
    "language_count = Counter(lang for country in countries_data for lang in country[\"languages\"])\n",
    "most_spoken_languages = language_count.most_common(10)\n",
    "print(\"أكثر 10 لغات تحدثاً:\", most_spoken_languages)\n"
   ]
  },
  {
   "cell_type": "code",
   "execution_count": 44,
   "id": "337becc6-2193-4f2b-860a-9f0d592cf485",
   "metadata": {},
   "outputs": [
    {
     "name": "stdout",
     "output_type": "stream",
     "text": [
      "أكثر 10 دول سكاناً: ['China', 'India', 'United States of America', 'Indonesia', 'Brazil', 'Pakistan', 'Nigeria', 'Bangladesh', 'Russian Federation', 'Japan']\n"
     ]
    }
   ],
   "source": [
    "from countries_details_dat import countries_data\n",
    "\n",
    "def get_population(country):\n",
    "    return country[\"population\"]\n",
    "\n",
    "sorted_countries = sorted(countries_data, key=get_population, reverse=True)[:10]\n",
    "populated_countries_names = [country[\"name\"] for country in sorted_countries]\n",
    "\n",
    "print(\"أكثر 10 دول سكاناً:\", populated_countries_names)\n"
   ]
  },
  {
   "cell_type": "code",
   "execution_count": null,
   "id": "27367c25-d4b1-4614-94c4-38e247cb681b",
   "metadata": {},
   "outputs": [],
   "source": []
  }
 ],
 "metadata": {
  "kernelspec": {
   "display_name": "Python 3 (ipykernel)",
   "language": "python",
   "name": "python3"
  },
  "language_info": {
   "codemirror_mode": {
    "name": "ipython",
    "version": 3
   },
   "file_extension": ".py",
   "mimetype": "text/x-python",
   "name": "python",
   "nbconvert_exporter": "python",
   "pygments_lexer": "ipython3",
   "version": "3.12.7"
  }
 },
 "nbformat": 4,
 "nbformat_minor": 5
}
